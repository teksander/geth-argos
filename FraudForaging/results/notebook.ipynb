{
 "cells": [
  {
   "cell_type": "code",
   "execution_count": 1,
   "id": "12d2589b-f56e-4c66-b553-f996a1e57dd5",
   "metadata": {
    "hide_input": false,
    "init_cell": true,
    "scrolled": false,
    "slideshow": {
     "slide_type": "fragment"
    }
   },
   "outputs": [
    {
     "data": {
      "application/vnd.jupyter.widget-view+json": {
       "model_id": "a3584f639d244d4ba40c2157e766bc25",
       "version_major": 2,
       "version_minor": 0
      },
      "text/plain": [
       "Dropdown(description='Experiment:', index=28, options=('/home/eksander/geth-argos/MarketForaging/results/data/…"
      ]
     },
     "metadata": {},
     "output_type": "display_data"
    }
   ],
   "source": [
    "%load_ext autoreload\n",
    "%autoreload 2\n",
    "# %matplotlib qt5\n",
    "%matplotlib inline\n",
    "\n",
    "import pandas as pd\n",
    "import seaborn as sns\n",
    "from matplotlib import pyplot as plt\n",
    "from matplotlib import ticker\n",
    "from helpers import *\n",
    "import numpy as np\n",
    "import os\n",
    "import math\n",
    "import ipywidgets as widgets\n",
    "\n",
    "import warnings\n",
    "warnings.filterwarnings('ignore')\n",
    "\n",
    "pd.set_option('display.max_rows', 1000)\n",
    "\n",
    "# Generic plotting configurations\n",
    "# plt.rcParams['figure.figsize'] = [10, 6]\n",
    "# plt.rcParams['pdf.fonttype'] = 42\n",
    "# plt.rcParams['ps.fonttype'] = 42\n",
    "\n",
    "# plt.style.use('ggplot')\n",
    "plt.style.use(['science', 'ieee'])\n",
    "plt.rcParams['figure.dpi'] = 130\n",
    "# plt.rcParams['figure.figsize'] = [2.12, 1.6]\n",
    "\n",
    "# Figure sizes\n",
    "default  = np.array([3.3,   2.5])\n",
    "double   = np.array([6.6,   5])\n",
    "tlwidth  = np.array([1.58, 2.5])\n",
    "hlwidth  = np.array([2.375, 2.5])\n",
    "hlwidth  = np.array([2.375, 2.5])\n",
    "flwidth  = np.array([4.75,  2.5])\n",
    "fl22  = np.array([4.75,  1.6])\n",
    "flhh  = np.array([4.75,  1.25])\n",
    "EXP_list = [exp_folder.split('experiment_')[-1][:-1] for exp_folder in sorted(glob.glob('%s/*/' % datadir))]\n",
    "\n",
    "EXP_drop = widgets.Dropdown(\n",
    "    options=EXP_list,\n",
    "    value=EXP_list[-1],\n",
    "    description='Experiment:',\n",
    "    disabled=False,\n",
    ")\n",
    "\n",
    "EXP_multiple = widgets.SelectMultiple(\n",
    "    options=EXP_list,\n",
    "    value=[EXP_list[-1]],\n",
    "    #rows=10,\n",
    "    description='Experiment:',\n",
    "    disabled=False,\n",
    ")\n",
    "\n",
    "\n",
    "figfolder = 'plots'\n",
    "display(EXP_drop)"
   ]
  },
  {
   "cell_type": "markdown",
   "id": "7268d8af",
   "metadata": {},
   "source": [
    "## Time elapsed between blocks"
   ]
  },
  {
   "cell_type": "code",
   "execution_count": 70,
   "id": "aaa72784",
   "metadata": {
    "hide_input": false
   },
   "outputs": [
    {
     "data": {
      "application/vnd.jupyter.widget-view+json": {
       "model_id": "91ff2cb0f79e405ebbb0fc53c58eff0f",
       "version_major": 2,
       "version_minor": 0
      },
      "text/plain": [
       "SelectMultiple(description='Experiment:', index=(24, 25, 27), options=('/home/eksander/geth-argos/MarketForagi…"
      ]
     },
     "metadata": {},
     "output_type": "display_data"
    },
    {
     "name": "stdout",
     "output_type": "stream",
     "text": [
      "Experiment datasets: test120_concentrated,test120_hotspot,test120_scattered\n"
     ]
    },
    {
     "data": {
      "image/png": "[encoded data removed]",
      "text/plain": [
       "<Figure size 617.5x162.5 with 2 Axes>"
      ]
     },
     "metadata": {
      "needs_background": "light"
     },
     "output_type": "display_data"
    }
   ],
   "source": [
    "display(EXP_multiple)\n",
    "EXP = EXP_multiple.value\n",
    "# display(EXP_drop)\n",
    "# EXP = EXP_drop.value\n",
    "print('Experiment datasets: '+','.join(EXP))\n",
    "\n",
    "# Generate the dataframe\n",
    "df = create_df2(EXP, 'block')\n",
    "# df = df.get_param(df,'generic_params','block_period')\n",
    "XMAX = 15\n",
    "\n",
    "###############################################################\n",
    "# Process the dataframe  \n",
    "bins = range(0, XMAX+1, 1)\n",
    "\n",
    "# Create figure\n",
    "fig, ax = plt.subplots(1,2, sharey=True, figsize=flhh)\n",
    "\n",
    "# Create plot\n",
    "hist, bins = np.histogram(df['TELAPSED'], bins=bins)\n",
    "ax[0].bar(bins[:-1]+(bins[1]-bins[0])/2, \n",
    "          np.cumsum(hist.astype(np.float32))/hist.sum(), \n",
    "          width =(bins[1]-bins[0]), \n",
    "          color ='green', \n",
    "          alpha = 0.6,\n",
    "          zorder= 3)\n",
    "# ax = df['TELAPSED'].plot.hist(color='green', bins=bins, xticks=xticks)\n",
    "\n",
    "# Edit plot\n",
    "ax[0].grid(axis='x', linestyle='--', color='k',zorder=1) \n",
    "ax[0].text(XMAX-0.8,0.2,'n=%s blocks' % format(len(df), ',d'),ha='right',zorder=4)\n",
    "t = ax[0].text(XMAX-0.8,0.2,'n=%s blocks' % format(len(df), ',d'),ha='right',color='white',zorder=2)\n",
    "t.set_bbox(dict(facecolor='white', edgecolor='white'))\n",
    "ax[0].yaxis.set_major_formatter(ticker.PercentFormatter(xmax=1, decimals=0))\n",
    "ax[0].set_ylim(ymin=0, ymax = 1)\n",
    "ax[0].set_xticks(bins)\n",
    "ax[0].set_xlim(xmin=bins[0], xmax = bins[-1])\n",
    "ax[0].set_xlabel('Block Reception Delay  [s]')\n",
    "\n",
    "###############################################################\n",
    "# Process the dataframe  \n",
    "df = df.drop_duplicates('HASH')\n",
    "df = trim_chain(df, 10).sort_values('TIMESTAMP')\n",
    "df['TPROD'] = df.groupby(['EXP', 'REP'])['TIMESTAMP'].diff(1)\n",
    "\n",
    "# Create plot\n",
    "hist, bins = np.histogram(df['TPROD'], bins=bins)\n",
    "ax[1].bar(bins[:-1]+(bins[1]-bins[0])/2, \n",
    "          np.cumsum(hist.astype(np.float32))/hist.sum(), \n",
    "          width =(bins[1]-bins[0]), \n",
    "          color ='green', \n",
    "          alpha = 0.6,\n",
    "          zorder=3)\n",
    "# ax = df['TPROD'].plot.hist(color='green', bins=bins, xticks=xticks)\n",
    "\n",
    "# Edit plot\n",
    "ax[1].grid(axis='x', linestyle='--', color='k',zorder=1) \n",
    "ax[1].text(XMAX-0.8,0.2,'n=%s unique blocks' % format(len(df), ',d'),ha='right',zorder=4)\n",
    "t = ax[1].text(XMAX-0.8,0.2,'n=%s unique blocks' % format(len(df), ',d'),ha='right',color='white',zorder=2)\n",
    "t.set_bbox(dict(facecolor='white', edgecolor='white'))\n",
    "ax[1].yaxis.set_major_formatter(ticker.PercentFormatter(xmax=1, decimals=0))\n",
    "ax[1].set_ylim(ymin=0, ymax = 1)\n",
    "ax[1].set_xticks(bins)\n",
    "ax[1].set_xlim(xmin=bins[0], xmax = bins[-1])\n",
    "ax[1].set_xlabel('Block Production Delay  [s]')\n",
    "\n",
    "# Save plot\n",
    "fig.tight_layout()\n",
    "plt.savefig(\"plots/multi/time_elapsed_both.png\", bbox_inches='tight', dpi=600)\n",
    "plt.show()"
   ]
  },
  {
   "cell_type": "markdown",
   "id": "d723d53c",
   "metadata": {
    "hide_input": true
   },
   "source": [
    "## Time elapsed between block production to reception"
   ]
  },
  {
   "cell_type": "code",
   "execution_count": 3,
   "id": "696b805a-8d4a-4a6e-a0ae-11997c29f798",
   "metadata": {
    "hide_input": true,
    "scrolled": false
   },
   "outputs": [
    {
     "data": {
      "application/vnd.jupyter.widget-view+json": {
       "model_id": "23c26a0a48f84f3ca8ce899c836684fd",
       "version_major": 2,
       "version_minor": 0
      },
      "text/plain": [
       "Dropdown(description='Experiment:', index=34, options=('backup_test116_patchy_single_', 'test101', 'test102', …"
      ]
     },
     "metadata": {},
     "output_type": "display_data"
    },
    {
     "data": {
      "image/png": "[encoded data removed]",
      "text/plain": [
       "<Figure size 429x325 with 1 Axes>"
      ]
     },
     "metadata": {
      "needs_background": "light"
     },
     "output_type": "display_data"
    }
   ],
   "source": [
    "display(EXP_drop)\n",
    "EXP = EXP_drop.value\n",
    "\n",
    "# Generate the dataframe\n",
    "df = create_df(EXP, 'block')\n",
    "df = df.get_param(df,'generic_params','block_period')\n",
    "\n",
    "# Process the data  \n",
    "bins = range(0, 30, df['block_period'].min())\n",
    "# XX = df.groupby('HASH')['TELAPSED'].agg('max')\n",
    "XX = df['TELAPSED']\n",
    "\n",
    "# Create plot\n",
    "ax = plt.axes()\n",
    "hist, bins = np.histogram(XX, bins=bins)\n",
    "ax.bar(bins[:-1]+(bins[1]-bins[0])/2, hist.astype(np.float32) / hist.sum(), width=(bins[1]-bins[0]), color='green', edgecolor='gray')\n",
    "# ax = df['TELAPSED'].plot.hist(color='green', bins=bins, xticks=xticks)\n",
    "\n",
    "# Edit plot\n",
    "ax.grid(axis='x', linestyle='--', color='k', alpha=0.2) \n",
    "ax.set_title('Time elapsed between block \\n production and reception (%s blocks)' % len(XX))\n",
    "\n",
    "ax.yaxis.set_major_formatter(ticker.PercentFormatter(xmax=1, decimals=0))\n",
    "ax.set_ylim(ymin=0, ymax = 1)\n",
    "# ax.set_ylabel('Percentage of blocks received within')\n",
    "\n",
    "ax.set_xticks(bins)\n",
    "ax.set_xlim(xmin=bins[0], xmax = bins[-1])\n",
    "ax.set_xlabel('Block Travel Time  [s]')\n",
    "\n",
    "# Save plot\n",
    "plt.savefig(\"plots/experiment_\"+EXP+\"/time_elapsed_recept.png\", bbox_inches='tight', dpi=600)\n",
    "plt.show()"
   ]
  },
  {
   "cell_type": "markdown",
   "id": "82bc8380",
   "metadata": {
    "hide_input": true
   },
   "source": [
    "## Time elapsed between consecutive blocks"
   ]
  },
  {
   "cell_type": "code",
   "execution_count": 6,
   "id": "acabde4c",
   "metadata": {
    "hide_input": false,
    "scrolled": false
   },
   "outputs": [
    {
     "data": {
      "application/vnd.jupyter.widget-view+json": {
       "model_id": "bd1398d428a548769686180d68d47be3",
       "version_major": 2,
       "version_minor": 0
      },
      "text/plain": [
       "Dropdown(description='Experiment:', index=17, options=('backup_test116_patchy_single_', 'test101', 'test102', …"
      ]
     },
     "metadata": {},
     "output_type": "display_data"
    },
    {
     "data": {
      "image/png": "[encoded data removed]",
      "text/plain": [
       "<Figure size 429x325 with 1 Axes>"
      ]
     },
     "metadata": {
      "needs_background": "light"
     },
     "output_type": "display_data"
    }
   ],
   "source": [
    "display(EXP_drop)\n",
    "EXP = EXP_drop.value\n",
    "\n",
    "# Generate the dataframe\n",
    "df = create_df(EXP, 'block')\n",
    "\n",
    "# Process the dataframe  \n",
    "df = df.get_param(df,'generic_params','block_period')\n",
    "bins = range(0, 30, df['block_period'].min())\n",
    "\n",
    "df = df.drop_duplicates('HASH')\n",
    "df = trim_chain(df, 8).sort_values('TIMESTAMP')\n",
    "df['TPROD'] = df.groupby(['EXP', 'REP'])['TIMESTAMP'].diff(1)\n",
    "\n",
    "# Create plot\n",
    "ax = plt.axes()\n",
    "hist, bins = np.histogram(df['TPROD'], bins=bins)\n",
    "ax.bar(bins[:-1]+(bins[1]-bins[0])/2, hist.astype(np.float32) / hist.sum(), width=(bins[1]-bins[0]), color='green', edgecolor='gray')\n",
    "# ax = df['TPROD'].plot.hist(color='green', bins=bins, xticks=xticks)\n",
    "\n",
    "# Edit plot\n",
    "ax.set_title('Time elapsed between consecutive blocks \\n (%s mainchain blocks)' % len(df))\n",
    "ax.grid(axis='x', linestyle='--', color='k', alpha=0.2) \n",
    "\n",
    "ax.yaxis.set_major_formatter(ticker.PercentFormatter(xmax=1, decimals=0))\n",
    "ax.set_ylim(ymin=0, ymax = 1)\n",
    "# ax.set_ylabel('Percentage of blocks produced within')\n",
    "\n",
    "ax.set_xticks(bins)\n",
    "ax.set_xlim(xmin=bins[0], xmax = bins[-1])\n",
    "ax.set_xlabel('Block Production Time  [s]')\n",
    "\n",
    "# Save plot\n",
    "plt.savefig(\"plots/experiment_\"+EXP+\"/time_elapsed_prod.png\", dpi=600)\n",
    "plt.show()"
   ]
  },
  {
   "cell_type": "markdown",
   "id": "cb141e71",
   "metadata": {
    "hide_input": true
   },
   "source": [
    "## Local memory occupied by chaindata"
   ]
  },
  {
   "cell_type": "code",
   "execution_count": 3,
   "id": "d8ed2d06",
   "metadata": {
    "hide_input": true,
    "scrolled": false
   },
   "outputs": [
    {
     "data": {
      "application/vnd.jupyter.widget-view+json": {
       "model_id": "c65fddaa85fe4c85b48e621f9b7b579c",
       "version_major": 2,
       "version_minor": 0
      },
      "text/plain": [
       "Dropdown(description='Experiment:', index=26, options=('/home/eksander/geth-argos/MarketForaging/results/data/…"
      ]
     },
     "metadata": {},
     "output_type": "display_data"
    },
    {
     "data": {
      "image/png": "[encoded data removed]",
      "text/plain": [
       "<Figure size 429x325 with 1 Axes>"
      ]
     },
     "metadata": {
      "needs_background": "light"
     },
     "output_type": "display_data"
    }
   ],
   "source": [
    "# display(EXP_multiple)\n",
    "# EXP = EXP_multiple.value\n",
    "display(EXP_drop)\n",
    "EXP = EXP_drop.value\n",
    "# print('Experiment datasets: '+','.join(EXP))\n",
    "\n",
    "# Generate the dataframe\n",
    "df = create_df2(EXP, 'extra', exclude_patterns = ['greedy'])\n",
    "df = get_param_df2(df, 'generic_params', 'num_robots', alias = 'Robots')\n",
    "df = df.query('Robots <= 25')\n",
    "\n",
    "df['TEMP'] = df['TIME']/10\n",
    "df['TIME_S'] = df['TEMP'].round().astype(int) * 10\n",
    "\n",
    "# df = df.query('REP == \"001\"')\n",
    "# display(df)\n",
    "# Process the dataframe  \n",
    "# df = df.groupby(['Robots']).apply(lambda x: LinearRegression(x, 'TIME', 'MB'))\n",
    "\n",
    "# display(df[['Robots','MB']])\n",
    "# Create plot\n",
    "\n",
    "\n",
    "ax = plt.axes()\n",
    "# display(df)\n",
    "# df = df[['Robots','TIME_M','MB']]\n",
    "# display(df.groupby(['Robots', 'TIME_M'], as_index=False).mean().set_index('TIME_M')['MB'])\n",
    "\n",
    "df.groupby(['Robots', 'TIME_S'], as_index=False).mean().set_index('TIME_S')[['Robots','MB']].groupby('Robots')['MB'].plot(ax=ax)\n",
    "\n",
    "# df.groupby('Robots').boxplot(column='MB', by='TIME_MR', figsize=double)\n",
    "# sns.boxplot(x=df['TIME_MR'], y=df['MB'], hue=df['Robots'], showfliers = False)\n",
    "\n",
    "# display(df)\n",
    "# s = df.pivot('TIME_M', 'ID', 'MB').mean(axis=1).resample('0.15S').mean()\n",
    "\n",
    "# display(df)\n",
    "# df['MB_mov_avg'] = df.set_index(['TIME_M']).groupby('REP')['MB'].transform(lambda x: x.rolling(10, 1).mean())\n",
    "# df['MB_mov_avg'] = df.set_index(['TIME_M']).groupby('REP').rolling(10)['MB'].mean().reset_index(drop=True)\n",
    "# display(df)\n",
    "# s.plot(ax = ax, figsize = double)\n",
    "# display(df)\n",
    "# df.set_index(['TIME']).groupby(['EXP', 'REP', 'ID'])['MB'].plot(ax = ax, color='gray', label='_nolegend_', linewidth=0.2, alpha = 0.1, zorder=0)\n",
    "\n",
    "# Edit plot\n",
    "# xmax = math.ceil(df['TIME'].max()/60)\n",
    "# xticks = range(0,xmax,1)\n",
    "# ax.set_xlim(xmin=0,xmax = xmax)\n",
    "# ax.set_xticks(xticks) \n",
    "ax.set_xlabel('Runtime [minutes]')\n",
    "ax.set_ylabel('Local storage costs [MB]')\n",
    "ax.legend(loc='best', bbox_to_anchor=(1, 0.5), title = 'Number of\\nrobots')\n",
    "plt.gcf().tight_layout()\n",
    "\n",
    "# Save plot\n",
    "# plt.savefig(\"plots/experiment_\"+EXP+\"/local_memory.png\", bbox_inches='tight', dpi=600)\n",
    "# plt.savefig(\"plots/multi/local_memory.png\", bbox_inches='tight', dpi=600)\n",
    "plt.show()"
   ]
  },
  {
   "cell_type": "code",
   "execution_count": 66,
   "id": "6a4c685c",
   "metadata": {},
   "outputs": [
    {
     "data": {
      "application/vnd.jupyter.widget-view+json": {
       "model_id": "10f6c539ffc44d28b13b5e8ad574959b",
       "version_major": 2,
       "version_minor": 0
      },
      "text/plain": [
       "Dropdown(description='Experiment:', index=26, options=('/home/eksander/geth-argos/MarketForaging/results/data/…"
      ]
     },
     "metadata": {},
     "output_type": "display_data"
    },
    {
     "data": {
      "text/html": [
       "<div>\n",
       "<style scoped>\n",
       "    .dataframe tbody tr th:only-of-type {\n",
       "        vertical-align: middle;\n",
       "    }\n",
       "\n",
       "    .dataframe tbody tr th {\n",
       "        vertical-align: top;\n",
       "    }\n",
       "\n",
       "    .dataframe thead th {\n",
       "        text-align: right;\n",
       "    }\n",
       "</style>\n",
       "<table border=\"1\" class=\"dataframe\">\n",
       "  <thead>\n",
       "    <tr style=\"text-align: right;\">\n",
       "      <th></th>\n",
       "      <th>REP</th>\n",
       "      <th>ID</th>\n",
       "      <th>BLOCK</th>\n",
       "    </tr>\n",
       "  </thead>\n",
       "  <tbody>\n",
       "    <tr>\n",
       "      <th>0</th>\n",
       "      <td>016</td>\n",
       "      <td>1</td>\n",
       "      <td>389</td>\n",
       "    </tr>\n",
       "    <tr>\n",
       "      <th>1</th>\n",
       "      <td>016</td>\n",
       "      <td>2</td>\n",
       "      <td>390</td>\n",
       "    </tr>\n",
       "    <tr>\n",
       "      <th>2</th>\n",
       "      <td>016</td>\n",
       "      <td>3</td>\n",
       "      <td>390</td>\n",
       "    </tr>\n",
       "    <tr>\n",
       "      <th>3</th>\n",
       "      <td>016</td>\n",
       "      <td>4</td>\n",
       "      <td>389</td>\n",
       "    </tr>\n",
       "    <tr>\n",
       "      <th>4</th>\n",
       "      <td>016</td>\n",
       "      <td>5</td>\n",
       "      <td>383</td>\n",
       "    </tr>\n",
       "    <tr>\n",
       "      <th>5</th>\n",
       "      <td>018</td>\n",
       "      <td>1</td>\n",
       "      <td>406</td>\n",
       "    </tr>\n",
       "    <tr>\n",
       "      <th>6</th>\n",
       "      <td>018</td>\n",
       "      <td>2</td>\n",
       "      <td>400</td>\n",
       "    </tr>\n",
       "    <tr>\n",
       "      <th>7</th>\n",
       "      <td>018</td>\n",
       "      <td>3</td>\n",
       "      <td>400</td>\n",
       "    </tr>\n",
       "    <tr>\n",
       "      <th>8</th>\n",
       "      <td>018</td>\n",
       "      <td>4</td>\n",
       "      <td>404</td>\n",
       "    </tr>\n",
       "    <tr>\n",
       "      <th>9</th>\n",
       "      <td>018</td>\n",
       "      <td>5</td>\n",
       "      <td>406</td>\n",
       "    </tr>\n",
       "    <tr>\n",
       "      <th>10</th>\n",
       "      <td>019</td>\n",
       "      <td>1</td>\n",
       "      <td>397</td>\n",
       "    </tr>\n",
       "    <tr>\n",
       "      <th>11</th>\n",
       "      <td>019</td>\n",
       "      <td>2</td>\n",
       "      <td>398</td>\n",
       "    </tr>\n",
       "    <tr>\n",
       "      <th>12</th>\n",
       "      <td>019</td>\n",
       "      <td>3</td>\n",
       "      <td>397</td>\n",
       "    </tr>\n",
       "    <tr>\n",
       "      <th>13</th>\n",
       "      <td>019</td>\n",
       "      <td>4</td>\n",
       "      <td>397</td>\n",
       "    </tr>\n",
       "    <tr>\n",
       "      <th>14</th>\n",
       "      <td>019</td>\n",
       "      <td>5</td>\n",
       "      <td>395</td>\n",
       "    </tr>\n",
       "    <tr>\n",
       "      <th>15</th>\n",
       "      <td>020</td>\n",
       "      <td>1</td>\n",
       "      <td>403</td>\n",
       "    </tr>\n",
       "    <tr>\n",
       "      <th>16</th>\n",
       "      <td>020</td>\n",
       "      <td>2</td>\n",
       "      <td>403</td>\n",
       "    </tr>\n",
       "    <tr>\n",
       "      <th>17</th>\n",
       "      <td>020</td>\n",
       "      <td>3</td>\n",
       "      <td>403</td>\n",
       "    </tr>\n",
       "    <tr>\n",
       "      <th>18</th>\n",
       "      <td>020</td>\n",
       "      <td>4</td>\n",
       "      <td>403</td>\n",
       "    </tr>\n",
       "    <tr>\n",
       "      <th>19</th>\n",
       "      <td>020</td>\n",
       "      <td>5</td>\n",
       "      <td>403</td>\n",
       "    </tr>\n",
       "    <tr>\n",
       "      <th>20</th>\n",
       "      <td>021</td>\n",
       "      <td>1</td>\n",
       "      <td>403</td>\n",
       "    </tr>\n",
       "    <tr>\n",
       "      <th>21</th>\n",
       "      <td>021</td>\n",
       "      <td>2</td>\n",
       "      <td>400</td>\n",
       "    </tr>\n",
       "    <tr>\n",
       "      <th>22</th>\n",
       "      <td>021</td>\n",
       "      <td>3</td>\n",
       "      <td>403</td>\n",
       "    </tr>\n",
       "    <tr>\n",
       "      <th>23</th>\n",
       "      <td>021</td>\n",
       "      <td>4</td>\n",
       "      <td>403</td>\n",
       "    </tr>\n",
       "    <tr>\n",
       "      <th>24</th>\n",
       "      <td>021</td>\n",
       "      <td>5</td>\n",
       "      <td>403</td>\n",
       "    </tr>\n",
       "    <tr>\n",
       "      <th>25</th>\n",
       "      <td>022</td>\n",
       "      <td>1</td>\n",
       "      <td>401</td>\n",
       "    </tr>\n",
       "    <tr>\n",
       "      <th>26</th>\n",
       "      <td>022</td>\n",
       "      <td>2</td>\n",
       "      <td>400</td>\n",
       "    </tr>\n",
       "    <tr>\n",
       "      <th>27</th>\n",
       "      <td>022</td>\n",
       "      <td>3</td>\n",
       "      <td>401</td>\n",
       "    </tr>\n",
       "    <tr>\n",
       "      <th>28</th>\n",
       "      <td>022</td>\n",
       "      <td>4</td>\n",
       "      <td>401</td>\n",
       "    </tr>\n",
       "    <tr>\n",
       "      <th>29</th>\n",
       "      <td>022</td>\n",
       "      <td>5</td>\n",
       "      <td>401</td>\n",
       "    </tr>\n",
       "    <tr>\n",
       "      <th>30</th>\n",
       "      <td>023</td>\n",
       "      <td>1</td>\n",
       "      <td>406</td>\n",
       "    </tr>\n",
       "    <tr>\n",
       "      <th>31</th>\n",
       "      <td>023</td>\n",
       "      <td>2</td>\n",
       "      <td>402</td>\n",
       "    </tr>\n",
       "    <tr>\n",
       "      <th>32</th>\n",
       "      <td>023</td>\n",
       "      <td>3</td>\n",
       "      <td>406</td>\n",
       "    </tr>\n",
       "    <tr>\n",
       "      <th>33</th>\n",
       "      <td>023</td>\n",
       "      <td>4</td>\n",
       "      <td>406</td>\n",
       "    </tr>\n",
       "    <tr>\n",
       "      <th>34</th>\n",
       "      <td>023</td>\n",
       "      <td>5</td>\n",
       "      <td>406</td>\n",
       "    </tr>\n",
       "    <tr>\n",
       "      <th>35</th>\n",
       "      <td>024</td>\n",
       "      <td>1</td>\n",
       "      <td>391</td>\n",
       "    </tr>\n",
       "    <tr>\n",
       "      <th>36</th>\n",
       "      <td>024</td>\n",
       "      <td>2</td>\n",
       "      <td>391</td>\n",
       "    </tr>\n",
       "    <tr>\n",
       "      <th>37</th>\n",
       "      <td>024</td>\n",
       "      <td>3</td>\n",
       "      <td>391</td>\n",
       "    </tr>\n",
       "    <tr>\n",
       "      <th>38</th>\n",
       "      <td>024</td>\n",
       "      <td>4</td>\n",
       "      <td>391</td>\n",
       "    </tr>\n",
       "    <tr>\n",
       "      <th>39</th>\n",
       "      <td>024</td>\n",
       "      <td>5</td>\n",
       "      <td>391</td>\n",
       "    </tr>\n",
       "    <tr>\n",
       "      <th>40</th>\n",
       "      <td>025</td>\n",
       "      <td>1</td>\n",
       "      <td>397</td>\n",
       "    </tr>\n",
       "    <tr>\n",
       "      <th>41</th>\n",
       "      <td>025</td>\n",
       "      <td>2</td>\n",
       "      <td>392</td>\n",
       "    </tr>\n",
       "    <tr>\n",
       "      <th>42</th>\n",
       "      <td>025</td>\n",
       "      <td>3</td>\n",
       "      <td>397</td>\n",
       "    </tr>\n",
       "    <tr>\n",
       "      <th>43</th>\n",
       "      <td>025</td>\n",
       "      <td>4</td>\n",
       "      <td>397</td>\n",
       "    </tr>\n",
       "    <tr>\n",
       "      <th>44</th>\n",
       "      <td>025</td>\n",
       "      <td>5</td>\n",
       "      <td>397</td>\n",
       "    </tr>\n",
       "  </tbody>\n",
       "</table>\n",
       "</div>"
      ],
      "text/plain": [
       "    REP  ID  BLOCK\n",
       "0   016   1    389\n",
       "1   016   2    390\n",
       "2   016   3    390\n",
       "3   016   4    389\n",
       "4   016   5    383\n",
       "5   018   1    406\n",
       "6   018   2    400\n",
       "7   018   3    400\n",
       "8   018   4    404\n",
       "9   018   5    406\n",
       "10  019   1    397\n",
       "11  019   2    398\n",
       "12  019   3    397\n",
       "13  019   4    397\n",
       "14  019   5    395\n",
       "15  020   1    403\n",
       "16  020   2    403\n",
       "17  020   3    403\n",
       "18  020   4    403\n",
       "19  020   5    403\n",
       "20  021   1    403\n",
       "21  021   2    400\n",
       "22  021   3    403\n",
       "23  021   4    403\n",
       "24  021   5    403\n",
       "25  022   1    401\n",
       "26  022   2    400\n",
       "27  022   3    401\n",
       "28  022   4    401\n",
       "29  022   5    401\n",
       "30  023   1    406\n",
       "31  023   2    402\n",
       "32  023   3    406\n",
       "33  023   4    406\n",
       "34  023   5    406\n",
       "35  024   1    391\n",
       "36  024   2    391\n",
       "37  024   3    391\n",
       "38  024   4    391\n",
       "39  024   5    391\n",
       "40  025   1    397\n",
       "41  025   2    392\n",
       "42  025   3    397\n",
       "43  025   4    397\n",
       "44  025   5    397"
      ]
     },
     "metadata": {},
     "output_type": "display_data"
    }
   ],
   "source": [
    "display(EXP_drop)\n",
    "EXP = EXP_drop.value\n",
    "\n",
    "# Generate the dataframe\n",
    "df = create_df2(EXP, 'block')\n",
    "df = get_param_df2(df, 'generic_params', 'num_robots', alias = 'Robots')\n",
    "df = df.query('Robots == 5')\n",
    "df = df[df['REP'].astype(int) > 15]\n",
    "\n",
    "display(df.groupby(['REP','ID'], as_index=False).agg({'BLOCK':'max'}))"
   ]
  },
  {
   "cell_type": "code",
   "execution_count": 17,
   "id": "ebff9e7d",
   "metadata": {
    "hide_input": true
   },
   "outputs": [
    {
     "data": {
      "application/vnd.jupyter.widget-view+json": {
       "model_id": "a3584f639d244d4ba40c2157e766bc25",
       "version_major": 2,
       "version_minor": 0
      },
      "text/plain": [
       "Dropdown(description='Experiment:', index=26, options=('/home/eksander/geth-argos/MarketForaging/results/data/…"
      ]
     },
     "metadata": {},
     "output_type": "display_data"
    },
    {
     "data": {
      "image/png": "[encoded data removed]",
      "text/plain": [
       "<Figure size 617.5x208 with 3 Axes>"
      ]
     },
     "metadata": {
      "needs_background": "light"
     },
     "output_type": "display_data"
    }
   ],
   "source": [
    "display(EXP_drop)\n",
    "EXP = EXP_drop.value\n",
    "\n",
    "# Create figure\n",
    "fs = fl22\n",
    "fig, ax = plt.subplots(1,3, figsize=fs)\n",
    "\n",
    "# Generate the dataframe\n",
    "df = create_df2(EXP, 'extra')\n",
    "df = get_param_df2(df, 'generic_params', 'num_robots', alias = 'Robots')\n",
    "df['TIME_M'] = df['TIME']/60\n",
    "df = df.query('Robots <= 25')\n",
    "df = df[df['REP'].astype(int) > 15]\n",
    "\n",
    "# Plot options\n",
    "XX = 'Robots'\n",
    "YY = 'MB'\n",
    "yl = 'Local storage\\ncosts [MB]'\n",
    "\n",
    "# Process the data\n",
    "# df = df.groupby(['EXP','CFG', 'REP']).apply(lambda x: LinearRegression0(x, 'TIME_M', 'MB'))\n",
    "df = df.groupby(['Robots', 'REP'], as_index=False).agg({YY:'max'})\n",
    "\n",
    "# bp = df.boxplot(column='COEFS', by = XX, ax=ax[0], showfliers=False)\n",
    "bp = df.boxplot(column=[YY], by = XX, ax=ax[0], showfliers=False)\n",
    "\n",
    "# Edit plot \n",
    "plt.suptitle('')\n",
    "ax[0].xaxis.set_minor_locator(ticker.NullLocator())\n",
    "ax[0].xaxis.grid(False)\n",
    "ax[0].yaxis.grid(True, linestyle = '--')\n",
    "ax[0].set_xlabel(\"Number of %s\" % ax[0].get_xlabel())\n",
    "ax[0].set_ylim([5,10])\n",
    "ax[0].set_ylabel(yl)\n",
    "ax[0].set_title('')   \n",
    "\n",
    "################################################################\n",
    "# Generate the dataframe\n",
    "df = create_df2(EXP, 'loop_function')\n",
    "df = get_param_df2(df, 'generic_params', 'num_robots', alias = 'Robots')\n",
    "df = df.query('Robots <= 25')\n",
    "df = df[df['REP'].astype(int) > 15]\n",
    "# df = df[df['CONTROLLER'] == 'greedy']\n",
    "\n",
    "# Plot options\n",
    "XX = 'Robots'\n",
    "YY = 'VALUE'\n",
    "yl = 'Reward'\n",
    "\n",
    "# Process the data\n",
    "# df = df.groupby(['EXP', 'REP']).apply(lambda x: LinearRegression0(x, 'TIME_M', 'MB'))\n",
    "df = df.groupby(['Robots', 'REP'], as_index=False).agg({YY:'max'})\n",
    "\n",
    "# Create plot\n",
    "# bp = df.boxplot(column='COEFS', by = XX, ax=ax)\n",
    "bp = df.boxplot(column=[YY], by = XX, ax=ax[1])\n",
    "\n",
    "# Edit plot \n",
    "plt.suptitle('')\n",
    "ax[1].xaxis.set_minor_locator(ticker.NullLocator())\n",
    "ax[1].xaxis.grid(False)\n",
    "ax[1].yaxis.grid(True, linestyle = '--')\n",
    "ax[1].set_xlabel(\"Number of %s\" % ax[1].get_xlabel())\n",
    "ax[1].set_ylabel(yl)\n",
    "ax[1].set_ylim([0,450])\n",
    "ax[1].set_title('')   \n",
    "\n",
    "################################################################\n",
    "# Generate the dataframe\n",
    "df = create_df2(EXP, 'loop_function')\n",
    "df = get_param_df2(df, 'generic_params', 'num_robots', alias = 'Robots')\n",
    "df = df.query('Robots <= 25')\n",
    "# df = df[df['REP'].astype(int) > 15]\n",
    "df = df[df['CONTROLLER'] == 'greedy']\n",
    "\n",
    "# Plot options\n",
    "XX = 'Robots'\n",
    "YY = 'VALUE'\n",
    "yl = 'Reward'\n",
    "\n",
    "# Process the data\n",
    "# df = df.groupby(['EXP', 'REP']).apply(lambda x: LinearRegression0(x, 'TIME_M', 'MB'))\n",
    "df = df.groupby(['Robots', 'REP'], as_index=False).agg({YY:'max'})\n",
    "\n",
    "# Create plot\n",
    "# bp = df.boxplot(column='COEFS', by = XX, ax=ax)\n",
    "bp = df.boxplot(column=[YY], by = XX, ax=ax[2])\n",
    "\n",
    "# Edit plot \n",
    "plt.suptitle('')\n",
    "ax[2].xaxis.set_minor_locator(ticker.NullLocator())\n",
    "ax[2].xaxis.grid(False)\n",
    "ax[2].yaxis.grid(True, linestyle = '--')\n",
    "ax[2].set_xlabel(\"Number of %s\" % ax[2].get_xlabel())\n",
    "ax[2].set_ylabel(yl)\n",
    "ax[2].set_ylim([0,450])\n",
    "ax[2].set_title('')   \n",
    "\n",
    "# # Save plot\n",
    "plt.gcf().tight_layout()\n",
    "plt.savefig(\"plots/experiment_\"+EXP+\"/scalability_.png\", bbox_inches='tight', dpi=600)\n",
    "plt.show()"
   ]
  },
  {
   "cell_type": "markdown",
   "id": "ad3cd7dd",
   "metadata": {
    "hide_input": false
   },
   "source": [
    "## Value Collected Over Distance Traveled "
   ]
  },
  {
   "cell_type": "code",
   "execution_count": 4,
   "id": "aa7e104e",
   "metadata": {
    "hide_input": false,
    "scrolled": false
   },
   "outputs": [
    {
     "data": {
      "application/vnd.jupyter.widget-view+json": {
       "model_id": "f3195440c0774ba58e1da361fd9b2c28",
       "version_major": 2,
       "version_minor": 0
      },
      "text/plain": [
       "Dropdown(description='Experiment:', index=26, options=('/home/eksander/geth-argos/MarketForaging/results/data/…"
      ]
     },
     "metadata": {},
     "output_type": "display_data"
    },
    {
     "data": {
      "text/plain": [
       "<matplotlib.legend.Legend at 0x7fa1603ee730>"
      ]
     },
     "execution_count": 4,
     "metadata": {},
     "output_type": "execute_result"
    },
    {
     "data": {
      "image/png": "[encoded data removed]",
      "text/plain": [
       "<Figure size 429x325 with 1 Axes>"
      ]
     },
     "metadata": {
      "needs_background": "light"
     },
     "output_type": "display_data"
    }
   ],
   "source": [
    "display(EXP_drop)\n",
    "EXP = EXP_drop.value\n",
    "\n",
    "# Generate the dataframe\n",
    "df = create_df(EXP, 'loop_function')\n",
    "\n",
    "# Axis data options\n",
    "X_axis = 'TIME'\n",
    "\n",
    "# Process the dataframe\n",
    "df = df.groupby(['EXP']).apply(lambda x: LinearRegression0(x, X_axis, 'VALUE'))\n",
    "# df = df[df['CONTROLLER'] == 'blockchain3']\n",
    "\n",
    "# Create plot\n",
    "ax = plt.axes()\n",
    "df.set_index(X_axis).groupby(['EXP'])['LREG'].plot(ax=ax)\n",
    "df.set_index(X_axis).groupby(['EXP','REP'])['VALUE'].plot(ax=ax, label='_nolegend_', color='gray', linestyle = '-', linewidth=0.2, alpha=0.3, zorder=0)\n",
    "\n",
    "# Edit plot\n",
    "ax.set_xlim(xmin=0,xmax = df[X_axis].max())\n",
    "ax.set_ylabel('Reward')\n",
    "if X_axis == 'DIST':\n",
    "    ax.set_xlabel('Distance Traveled [m]')\n",
    "else:\n",
    "    ax.set_xlabel('Time [s]')\n",
    "ax.legend(loc='center left', bbox_to_anchor=(1, 0.5), title = 'Experiment')"
   ]
  },
  {
   "cell_type": "markdown",
   "id": "2e0ad0f6",
   "metadata": {},
   "source": [
    "## Efficiency (boxplot)"
   ]
  },
  {
   "cell_type": "code",
   "execution_count": 151,
   "id": "eec6953b",
   "metadata": {
    "hide_input": false,
    "scrolled": true
   },
   "outputs": [
    {
     "data": {
      "application/vnd.jupyter.widget-view+json": {
       "model_id": "0ae614cf054d49658556f204f23e2d14",
       "version_major": 2,
       "version_minor": 0
      },
      "text/plain": [
       "Dropdown(description='Experiment:', index=23, options=('/home/eksander/geth-argos/MarketForaging/results/data/…"
      ]
     },
     "metadata": {},
     "output_type": "display_data"
    },
    {
     "data": {
      "image/png": "[encoded data removed]",
      "text/plain": [
       "<Figure size 203.775x214.5 with 1 Axes>"
      ]
     },
     "metadata": {
      "needs_background": "light"
     },
     "output_type": "display_data"
    }
   ],
   "source": [
    "display(EXP_drop)\n",
    "EXP = EXP_drop.value\n",
    "\n",
    "# Generate the dataframe\n",
    "df = create_df(EXP, 'loop_function')\n",
    "df = get_param_df(df, 'generic_params', 'num_robots', alias = 'Robots')\n",
    "df = get_param_df(df, 'generic_params', 'max_recruits', alias = 'Recruits')\n",
    "df.loc[df['CONTROLLER'] == 'greedy', 'Recruits'] = 0\n",
    "\n",
    "# Plot options\n",
    "YY = 'SCOUT_DIST'\n",
    "XX = 'Recruits'\n",
    "BP = 'Robots'\n",
    "yl = 'Scouting efficiency'\n",
    "fs = 0.66*hlwidth\n",
    "# df = df.query('Recruits in [0,1]')\n",
    "df = df.query('Robots==25')\n",
    "\n",
    "# Process the data\n",
    "df = df.groupby(['EXP', 'REP']).apply(lambda x: LinearRegression0(x, YY, 'VALUE'))\n",
    "\n",
    "# Create plot\n",
    "bp = df.groupby(BP).boxplot(column='COEFS', by = XX, sharex=True, figsize=fs)\n",
    "\n",
    "# Edit plot \n",
    "plt.suptitle('')\n",
    "for axi in bp:axi.xaxis.set_minor_locator(ticker.NullLocator())\n",
    "for axi in bp: axi.xaxis.grid(False)\n",
    "for axi in bp: axi.yaxis.grid(True, linestyle = '--')\n",
    "for axi in bp: axi.set_xlabel(\"Number of foragers\")\n",
    "# for axi in bp: axi.set_ylabel(yl)\n",
    "for axi in bp: axi.set_title('')   \n",
    "\n",
    "# bp[0].set_title('No Blockchain (Individualist)')\n",
    "# bp[1].set_title('Blockchain (Individualist)')\n",
    "plt.gcf().tight_layout()\n",
    "\n",
    "plt.savefig(\"plots/experiment_\"+EXP+\"/efficiency_bp_%s_%s.png\" % (XX,YY), bbox_inches='tight', dpi=600)\n",
    "plt.show()\n"
   ]
  },
  {
   "cell_type": "markdown",
   "id": "8f3af75c",
   "metadata": {
    "hide_input": true
   },
   "source": [
    "## Total Value Collected (boxplot)"
   ]
  },
  {
   "cell_type": "code",
   "execution_count": 5,
   "id": "21bff613",
   "metadata": {
    "hide_input": false,
    "scrolled": false
   },
   "outputs": [
    {
     "data": {
      "application/vnd.jupyter.widget-view+json": {
       "model_id": "18ab6315cb974e3db633edf49347c3f1",
       "version_major": 2,
       "version_minor": 0
      },
      "text/plain": [
       "Dropdown(description='Experiment:', index=28, options=('/home/eksander/geth-argos/MarketForaging/results/data/…"
      ]
     },
     "metadata": {},
     "output_type": "display_data"
    },
    {
     "data": {
      "image/png": "[encoded data removed]",
      "text/plain": [
       "<Figure size 308.75x325 with 1 Axes>"
      ]
     },
     "metadata": {
      "needs_background": "light"
     },
     "output_type": "display_data"
    }
   ],
   "source": [
    "display(EXP_drop)\n",
    "EXP = EXP_drop.value\n",
    "\n",
    "# Generate the dataframe\n",
    "df = create_df2(EXP, 'loop_function')\n",
    "df = get_param_df2(df, 'generic_params', 'num_robots', alias = 'Robots')\n",
    "df = get_param_df2(df, 'generic_params', 'max_recruits', alias = 'Recruits')\n",
    "df.loc[df['CONTROLLER'] == 'greedy', 'Recruits'] = 0\n",
    "\n",
    "# Plot options\n",
    "XX = 'Recruits'\n",
    "YY = 'VALUE'\n",
    "BP = 'Robots'\n",
    "yl = 'Reward'\n",
    "fs = hlwidth\n",
    "\n",
    "# df = df.query('Robots==20')\n",
    "# df = df.query('Recruits==0 or Recruits==1')\n",
    "\n",
    "# Process the data  \n",
    "df = df.groupby(['Robots', 'Recruits', 'REP'], as_index=False).agg({YY:'max'})\n",
    "\n",
    "# Create plot\n",
    "bp = df.groupby(BP).boxplot(column=[YY], by = XX, sharex=True, figsize=fs, layout=(1,1))\n",
    "\n",
    "# Edit plot \n",
    "plt.suptitle('')\n",
    "for axi in bp:axi.xaxis.set_minor_locator(ticker.NullLocator())\n",
    "for axi in bp: axi.xaxis.grid(False)\n",
    "for axi in bp: axi.yaxis.grid(True, linestyle = '--')\n",
    "for axi in bp: axi.set_xlabel(\"Number of foragers\")\n",
    "for axi in bp: axi.set_ylabel(yl)\n",
    "for axi in bp: axi.set_title('') \n",
    "for axi in bp: axi.set_ylim(ymin=0, ymax = df[YY].max()*1.1)\n",
    "    \n",
    "# bp[0].set_title('Individualist (no blockchain)')\n",
    "# bp[1].set_title('Individualist (blockchain)')\n",
    "plt.gcf().tight_layout()\n",
    "\n",
    "plt.savefig(\"plots/experiment_\"+EXP+\"/value_bp_%s_%s.png\" % (XX,YY), bbox_inches='tight', dpi=600)\n",
    "plt.show()"
   ]
  },
  {
   "cell_type": "code",
   "execution_count": 10,
   "id": "38d5d313",
   "metadata": {
    "hide_input": true
   },
   "outputs": [
    {
     "data": {
      "application/vnd.jupyter.widget-view+json": {
       "model_id": "0bdd399a6a784916864d0a3c0f5c9f24",
       "version_major": 2,
       "version_minor": 0
      },
      "text/plain": [
       "SelectMultiple(description='Experiment:', index=(23, 24, 25), options=('/home/eksander/geth-argos/MarketForagi…"
      ]
     },
     "metadata": {},
     "output_type": "display_data"
    },
    {
     "data": {
      "image/png": "[encoded data removed]",
      "text/plain": [
       "<Figure size 617.5x260 with 3 Axes>"
      ]
     },
     "metadata": {
      "needs_background": "light"
     },
     "output_type": "display_data"
    },
    {
     "data": {
      "image/png": "[encoded data removed]",
      "text/plain": [
       "<Figure size 617.5x260 with 3 Axes>"
      ]
     },
     "metadata": {
      "needs_background": "light"
     },
     "output_type": "display_data"
    }
   ],
   "source": [
    "display(EXP_multiple)\n",
    "EXP = EXP_multiple.value\n",
    "\n",
    "# Generate the dataframe\n",
    "df = create_df2(EXP, 'loop_function')\n",
    "df = get_param_df2(df, 'generic_params', 'num_robots', alias = 'Robots')\n",
    "df = get_param_df2(df, 'generic_params', 'max_recruits', alias = 'Recruits')\n",
    "df.loc[df['CONTROLLER'] == 'greedy', 'Recruits'] = 0\n",
    "\n",
    "# Plot options\n",
    "YY = 'VALUE'\n",
    "XX = 'Recruits'\n",
    "BP = 'EXP'\n",
    "yl = 'Reward'\n",
    "titles = ['Scattered', 'Concentrated', 'Hotspot']\n",
    "fs = fl22\n",
    "\n",
    "# Process the data\n",
    "df = df.groupby(['EXP', 'CFG','Recruits', 'REP'], as_index=False).agg({YY:'max'})\n",
    "\n",
    "# Create plot\n",
    "bp = df.groupby(BP).boxplot(column=[YY], by = XX, sharey=True, figsize=fs, layout=[1,3])\n",
    "\n",
    "# Edit plot \n",
    "plt.suptitle('')\n",
    "for axi in bp:axi.xaxis.set_minor_locator(ticker.NullLocator())\n",
    "for axi in bp: axi.xaxis.grid(False)\n",
    "for axi in bp: axi.yaxis.grid(True, linestyle = '--')\n",
    "for axi in bp: axi.set_xlabel(\"\")\n",
    "for axi in bp: \n",
    "    labels = axi.get_xticklabels()\n",
    "    labels[0] = 'NA'\n",
    "    axi.set_xticklabels(\"\")\n",
    "    \n",
    "bp[0].set_ylabel(yl)\n",
    "i=0\n",
    "for axi in bp: \n",
    "    axi.set_title(titles[i]) \n",
    "    i = i+1\n",
    "plt.gcf().tight_layout()\n",
    "\n",
    "plt.savefig(\"plots/multi/value.png\", bbox_inches='tight', dpi=600)\n",
    "plt.show()\n",
    "#######################################################################################################\n",
    "\n",
    "# Generate the dataframe\n",
    "df = create_df2(EXP, 'loop_function')\n",
    "df = get_param_df2(df, 'generic_params', 'num_robots', alias = 'Robots')\n",
    "df = get_param_df2(df, 'generic_params', 'max_recruits', alias = 'Recruits')\n",
    "df.loc[df['CONTROLLER'] == 'greedy', 'Recruits'] = 0\n",
    "# df = df[pd.to_numeric(df['REP']) >= 10]\n",
    "# Plot options\n",
    "YY = 'SCOUT_DIST'\n",
    "XX = 'Recruits'\n",
    "BP = 'EXP'\n",
    "yl = 'Scouting efficiency'\n",
    "fs = fl22\n",
    "\n",
    "# Process the data\n",
    "df = df.groupby(['EXP', 'CFG', 'REP']).apply(lambda x: LinearRegression0(x, YY, 'VALUE'))\n",
    "\n",
    "# Create plot\n",
    "bp = df.groupby(BP).boxplot(column='COEFS', by = XX, sharey=True, figsize=fs, layout=[1,3])\n",
    "\n",
    "# Edit plot \n",
    "plt.suptitle('')\n",
    "for axi in bp:axi.xaxis.set_minor_locator(ticker.NullLocator())\n",
    "for axi in bp: axi.xaxis.grid(False)\n",
    "for axi in bp: axi.yaxis.grid(True, linestyle = '--')\n",
    "for axi in bp: axi.set_xlabel(\"Number of foragers\")\n",
    "for axi in bp: \n",
    "    labels = axi.get_xticklabels()\n",
    "    labels[0] = 'NA'\n",
    "    axi.set_xticklabels(labels)\n",
    "for axi in bp: axi.set_title('')  \n",
    "    \n",
    "bp[0].set_ylabel(yl)\n",
    "plt.gcf().tight_layout()\n",
    "\n",
    "plt.savefig(\"plots/multi/eff.png\", bbox_inches='tight', dpi=600)\n",
    "plt.show()\n"
   ]
  },
  {
   "cell_type": "markdown",
   "id": "776d9386",
   "metadata": {},
   "source": [
    "## Distance Travelled Ratio (boxplot)"
   ]
  },
  {
   "cell_type": "code",
   "execution_count": 18,
   "id": "03f05df7",
   "metadata": {
    "hide_input": false,
    "scrolled": false
   },
   "outputs": [
    {
     "data": {
      "application/vnd.jupyter.widget-view+json": {
       "model_id": "0cd57bb0694f4530901801e34c644084",
       "version_major": 2,
       "version_minor": 0
      },
      "text/plain": [
       "Dropdown(description='Experiment:', index=21, options=('backup_test116_patchy_single_', 'test101', 'test102', …"
      ]
     },
     "metadata": {},
     "output_type": "display_data"
    },
    {
     "data": {
      "image/png": "[encoded data removed]",
      "text/plain": [
       "<Figure size 429x325 with 4 Axes>"
      ]
     },
     "metadata": {
      "needs_background": "light"
     },
     "output_type": "display_data"
    }
   ],
   "source": [
    "display(EXP_drop)\n",
    "EXP = EXP_drop.value\n",
    "\n",
    "# Generate the dataframe\n",
    "df = create_df(EXP, 'loop_function')\n",
    "df = get_param_df(df, 'generic_params', 'num_robots', alias = 'Robots')\n",
    "df = get_param_df(df, 'generic_params', 'max_recruits', alias = 'Recruits')\n",
    "df.loc[df['CONTROLLER'] == 'greedy', 'Recruits'] = 0\n",
    "\n",
    "# Plot options\n",
    "XX = 'Recruits'\n",
    "BP = 'Robots'\n",
    "fs = hlwidth\n",
    "# df = df.query('Robots==20')\n",
    "\n",
    "# Process the dataframe  \n",
    "df['%DIST_RECRUIT'] = df['RECRUIT_DIST']/df['SCOUT_DIST']\n",
    "df = df.groupby(['Robots', 'Recruits', 'REP'], as_index=False).agg({'%DIST_RECRUIT':'mean'})\n",
    "\n",
    "# Create plot\n",
    "bp = df.groupby(BP).boxplot(column=['%DIST_RECRUIT'], by=XX, sharey=True, layout=(2,2))\n",
    "\n",
    "# Edit plot \n",
    "plt.suptitle('')\n",
    "for ax in bp: ax.set_xlabel(\"Number of %s\" % XX)\n",
    "for ax in bp: ax.set_ylabel(\"Ratio (Re/Sc)\")\n",
    "for ax in bp: ax.set_title('') \n",
    "# plt.gcf().tight_layout()\n",
    "\n",
    "plt.savefig(\"plots/experiment_\"+EXP+\"/ratio_bp_%s.png\" % XX, bbox_inches='tight', dpi=600)\n",
    "plt.show()"
   ]
  },
  {
   "cell_type": "markdown",
   "id": "581bb649",
   "metadata": {},
   "source": [
    "## Ticks per second (histogram)"
   ]
  },
  {
   "cell_type": "code",
   "execution_count": 82,
   "id": "eb8c1482",
   "metadata": {
    "scrolled": false
   },
   "outputs": [
    {
     "data": {
      "application/vnd.jupyter.widget-view+json": {
       "model_id": "f3195440c0774ba58e1da361fd9b2c28",
       "version_major": 2,
       "version_minor": 0
      },
      "text/plain": [
       "Dropdown(description='Experiment:', index=26, options=('/home/eksander/geth-argos/MarketForaging/results/data/…"
      ]
     },
     "metadata": {},
     "output_type": "display_data"
    },
    {
     "data": {
      "image/png": "[encoded data removed]",
      "text/plain": [
       "<Figure size 429x325 with 1 Axes>"
      ]
     },
     "metadata": {
      "needs_background": "light"
     },
     "output_type": "display_data"
    }
   ],
   "source": [
    "display(EXP_drop)\n",
    "EXP = EXP_drop.value\n",
    "\n",
    "# Generate the dataframe\n",
    "df = create_df(EXP, 'simulation')\n",
    "\n",
    "# Process the dataframe \n",
    "df = df.get_param(df,'generic_params','tps')\n",
    "bins = np.arange(df['tps'].min()-10, df['tps'].min()+12, 1)-0.5\n",
    "xticks = np.arange(df['tps'].min()-10, df['tps'].min()+11, 1)\n",
    "\n",
    "# Create plot\n",
    "ax = plt.axes()\n",
    "hist, bins = np.histogram(df['TPS'], bins=bins)\n",
    "ax.bar(bins[:-1]+(bins[1]-bins[0])/2, hist.astype(np.float32) / hist.sum(), width=(bins[1]-bins[0])*0.9, color='green')\n",
    "\n",
    "# Edit plot\n",
    "ax.grid(axis='y', linestyle='--', color='k', alpha=0.2, zorder=0) \n",
    "\n",
    "ax.yaxis.set_major_formatter(ticker.PercentFormatter(xmax=1, decimals=0))\n",
    "ax.set_ylim(ymin=0, ymax = 0.4)\n",
    "ax.set_xticks(xticks)\n",
    "ax.set_xlim(xmin=bins[0], xmax = bins[-1])\n",
    "ax.set_xlabel('Ticks per second')\n",
    "\n",
    "# Save plot\n",
    "plt.savefig(\"plots/experiment_\"+EXP+\"/ticks_per_second.png\", bbox_inches='tight')\n",
    "plt.show()"
   ]
  },
  {
   "cell_type": "markdown",
   "id": "9cfc6d07",
   "metadata": {
    "hide_input": true
   },
   "source": [
    "## Blockchain Visualizer"
   ]
  },
  {
   "cell_type": "code",
   "execution_count": null,
   "id": "4322b86e-6792-46ed-9091-a61251e1a306",
   "metadata": {
    "hide_input": false,
    "scrolled": true
   },
   "outputs": [],
   "source": [
    "# Select which experiment to plot the whole blockchain\n",
    "tic()\n",
    "# Select what data to read\n",
    "EXP = 'test115/20_blockchain2'\n",
    "REP = ['002']\n",
    "ID = range(1,100)\n",
    "\n",
    "# Collect data\n",
    "df = create_df(EXP, 'block')\n",
    "df = df.query(\"REP in @REP\")\n",
    "\n",
    "# Remove duplicate blocks\n",
    "df = df.drop_duplicates('HASH').sort_values('BLOCK')\n",
    "genesis = df['PHASH'].iloc[0]\n",
    "# display(df)\n",
    "bc = create_digraph(df)\n",
    "toc()\n",
    "# mainchain_path is the longest path extracted with nx\n",
    "bc_nx = convert_digraph(bc)\n",
    "mainchain_path = get_mainchain(bc_nx, source=genesis, target=str(df['HASH'].iloc[-1]))\n",
    "\n",
    "# Block hashes which are in mainchain_path -> mainchain \n",
    "df_mainchain = df.query(\"HASH in @mainchain_path\")\n",
    "# mainchain = create_digraph(df_mainchain)\n",
    "# mainchain_nx = convert_digraph(mainchain)\n",
    "\n",
    "# Block hashes not in the mainchain_path -> forks\n",
    "df_forks = df.query(\"HASH not in @mainchain_path\")\n",
    "forks = create_digraph(df_forks)\n",
    "forks_nx = convert_digraph(forks)\n",
    "\n",
    "# Block hashes which are in forks, but are not parents -> leafs\n",
    "df_leafs = df_forks.query('HASH not in PHASH')\n",
    "\n",
    "# Block hashes which are in forks, are parents but not children -> roots\n",
    "df_roots = df_forks.query('PHASH not in HASH')\n",
    "toc()\n",
    "\n",
    "# bc"
   ]
  },
  {
   "cell_type": "code",
   "execution_count": null,
   "id": "9ee16ec4-5c67-4411-a966-9f8f2dd5b067",
   "metadata": {
    "hide_input": true,
    "scrolled": true
   },
   "outputs": [],
   "source": [
    "MIN_FORK_LENGTH = 0\n",
    "\n",
    "fork_paths = [[y] for y in df_leafs['HASH']]\n",
    "df_roots.apply(lambda row : fork_paths.extend(nx.all_simple_paths(forks_nx, row['HASH'], list(df_leafs['HASH']))), axis = 1)\n",
    "\n",
    "fork_paths_longer_than = paths_longer_than(fork_paths, MIN_FORK_LENGTH)\n",
    "\n",
    "nodes_in_forks_longer_than = nodes_in_paths(fork_paths_longer_than)\n",
    "\n",
    "df_trimmed = df.query('HASH in @nodes_in_forks_longer_than or HASH in @mainchain_path')\n",
    "bc_trimmed = create_digraph(df_trimmed)\n",
    "\n",
    "# Do something cool? Idk, for example mainchain in blue or make it bigger\n",
    "df_trimmed.query('HASH in @mainchain_path').apply(lambda row : bc_trimmed.node(row['HASH'], height='0.7', width='0.7'), axis = 1)\n",
    "bc_trimmed.node(genesis, height='0.7', width='0.7')\n",
    "\n",
    "# Do something cool? Idk, for example color blocks sealed by prefered sealer in green. \n",
    "df_trimmed.query('DIFF==2').apply(lambda row : bc_trimmed.node(row['HASH'], style='filled', fillcolor='green'), axis = 1)\n",
    "\n",
    "# Do something cool? Idk, for example try to make mainchain at same level\n",
    "df_trimmed.query('HASH in @mainchain_path').apply(lambda row : bc_trimmed.node(row['HASH'], group='main'), axis = 1)\n",
    "bc_trimmed.node(genesis, group='main')\n",
    "\n",
    "# Do something cool? Idk, for example try to keep all forks at same level (slow!)\n",
    "df_trimmed.query('HASH in @nodes_in_forks_longer_than').apply(lambda row : bc_trimmed.node(row['HASH'], group='forks'), axis = 1)\n",
    "\n",
    "# Save plot\n",
    "bc_trimmed.render('plots/blockchain', format='pdf', view=True)\n",
    "# bc_trimmed"
   ]
  },
  {
   "cell_type": "markdown",
   "id": "44cf59eb",
   "metadata": {},
   "source": [
    "## Robot Balances"
   ]
  },
  {
   "cell_type": "code",
   "execution_count": null,
   "id": "cee898e2",
   "metadata": {
    "hide_input": true,
    "scrolled": true
   },
   "outputs": [],
   "source": [
    "# Select which experiments to plot\n",
    "EXP = 'test10'\n",
    "NREP = ['001']\n",
    "\n",
    "# Collect data\n",
    "df = create_df(EXP, 'sc')\n",
    "df = df.query(\"NREP in @NREP\")\n",
    "\n",
    "# Perform corrections\n",
    "df = df.append(pd.Series(0, index=df.columns), ignore_index=True).sort_values('TIME')\n",
    "\n",
    "# Create figure\n",
    "ax = plt.axes()\n",
    "df.set_index(['TIME']).groupby(['ID'])['BALANCE'].plot(ax = ax, alpha = 0.7)\n",
    "ax.set_xlim(xmin=0,xmax = df['TIME'].max())\n",
    "ax.legend(title='Robot ID')\n",
    "ax.set_xlabel('Time [s]')\n"
   ]
  }
 ],
 "metadata": {
  "hide_input": true,
  "kernelspec": {
   "display_name": "Python 3 (ipykernel)",
   "language": "python",
   "name": "python3"
  },
  "language_info": {
   "codemirror_mode": {
    "name": "ipython",
    "version": 3
   },
   "file_extension": ".py",
   "mimetype": "text/x-python",
   "name": "python",
   "nbconvert_exporter": "python",
   "pygments_lexer": "ipython3",
   "version": "3.8.10"
  },
  "toc": {
   "base_numbering": 1,
   "nav_menu": {},
   "number_sections": false,
   "sideBar": true,
   "skip_h1_title": false,
   "title_cell": "Table of Contents",
   "title_sidebar": "Contents",
   "toc_cell": false,
   "toc_position": {
    "height": "804px",
    "left": "60px",
    "top": "111.125px",
    "width": "296.594px"
   },
   "toc_section_display": true,
   "toc_window_display": true
  },
  "varInspector": {
   "cols": {
    "lenName": 16,
    "lenType": 16,
    "lenVar": 40
   },
   "kernels_config": {
    "python": {
     "delete_cmd_postfix": "",
     "delete_cmd_prefix": "del ",
     "library": "var_list.py",
     "varRefreshCmd": "print(var_dic_list())"
    },
    "r": {
     "delete_cmd_postfix": ") ",
     "delete_cmd_prefix": "rm(",
     "library": "var_list.r",
     "varRefreshCmd": "cat(var_dic_list()) "
    }
   },
   "position": {
    "height": "390.844px",
    "left": "1478px",
    "right": "20px",
    "top": "120px",
    "width": "350px"
   },
   "types_to_exclude": [
    "module",
    "function",
    "builtin_function_or_method",
    "instance",
    "_Feature"
   ],
   "window_display": false
  }
 },
 "nbformat": 4,
 "nbformat_minor": 5
}
